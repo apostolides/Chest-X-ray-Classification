{
  "nbformat": 4,
  "nbformat_minor": 0,
  "metadata": {
    "colab": {
      "provenance": [],
      "collapsed_sections": []
    },
    "kernelspec": {
      "name": "python3",
      "display_name": "Python 3"
    },
    "language_info": {
      "name": "python"
    },
    "accelerator": "GPU"
  },
  "cells": [
    {
      "cell_type": "code",
      "execution_count": null,
      "metadata": {
        "id": "_hby6sY4RMT3",
        "colab": {
          "base_uri": "https://localhost:8080/"
        },
        "outputId": "0683ecc4-4b3a-4827-a21c-a3bf055715ef"
      },
      "outputs": [
        {
          "output_type": "stream",
          "name": "stdout",
          "text": [
            "Mounted at /content/drive\n"
          ]
        }
      ],
      "source": [
        "from google.colab import drive\n",
        "drive.mount('/content/drive')"
      ]
    },
    {
      "cell_type": "code",
      "source": [
        "!unzip /content/drive/MyDrive/datasets/COVID-19_Radiography_Dataset.zip"
      ],
      "metadata": {
        "id": "wmduXfpkROhl"
      },
      "execution_count": null,
      "outputs": []
    },
    {
      "cell_type": "code",
      "source": [
        "!ls COVID-19_Radiography_Dataset"
      ],
      "metadata": {
        "colab": {
          "base_uri": "https://localhost:8080/"
        },
        "id": "CShQZzGyReJd",
        "outputId": "f516c163-08a0-4e3b-870e-f395d15db13a"
      },
      "execution_count": null,
      "outputs": [
        {
          "output_type": "stream",
          "name": "stdout",
          "text": [
            " COVID\t\t\t      Normal.metadata.xlsx\n",
            " COVID.metadata.xlsx\t      README.md.txt\n",
            " Lung_Opacity\t\t     'Viral Pneumonia'\n",
            " Lung_Opacity.metadata.xlsx  'Viral Pneumonia.metadata.xlsx'\n",
            " Normal\n"
          ]
        }
      ]
    },
    {
      "cell_type": "code",
      "source": [
        "import tensorflow as tf \n",
        "import os \n",
        "\n",
        "def prepare_datasets(data_dir, train_pct=0.6, val_pct=0.2, test_pct=0.2, batch_size=64, img_size=(299,299)):\n",
        "  \n",
        "  if train_pct + val_pct + test_pct != 1:\n",
        "    assert False\n",
        "\n",
        "  dataset = tf.keras.utils.image_dataset_from_directory(data_dir, color_mode='rgb', batch_size=batch_size, image_size=img_size, shuffle=True, seed=None, interpolation='bilinear')\n",
        "  classes = dataset.class_names\n",
        "  total_files = 0\n",
        "  for item in os.listdir(data_dir):\n",
        "    path = os.path.join(data_dir, item)\n",
        "    if os.path.isdir(path):\n",
        "      total_files += len(os.listdir(path))\n",
        "\n",
        "  dataset_size = total_files\n",
        "  batches = int(dataset_size / batch_size)\n",
        "  train_size = int(train_pct * batches)\n",
        "  val_size = int(val_pct * batches)\n",
        "\n",
        "  dev_ds = dataset.take(train_size + val_size)\n",
        "  train_ds = dataset.take(train_size)    \n",
        "  val_ds = dataset.skip(train_size).take(val_size)\n",
        "  test_ds = dataset.skip(train_size).skip(val_size)\n",
        "\n",
        "  return dev_ds, train_ds, val_ds, test_ds, classes"
      ],
      "metadata": {
        "id": "bMlsfhhTdrPU"
      },
      "execution_count": null,
      "outputs": []
    },
    {
      "cell_type": "code",
      "source": [
        "dev_ds, train_ds, val_ds, test_ds, classes = prepare_datasets(data_dir=\"COVID-19_Radiography_Dataset\")"
      ],
      "metadata": {
        "colab": {
          "base_uri": "https://localhost:8080/"
        },
        "id": "b5tI9m8ph8uE",
        "outputId": "19ee0437-77c0-4b18-d179-fe500d79b78a"
      },
      "execution_count": null,
      "outputs": [
        {
          "output_type": "stream",
          "name": "stdout",
          "text": [
            "Found 21165 files belonging to 4 classes.\n"
          ]
        }
      ]
    },
    {
      "cell_type": "code",
      "source": [
        "classes"
      ],
      "metadata": {
        "colab": {
          "base_uri": "https://localhost:8080/"
        },
        "id": "muSQl6W-gHnj",
        "outputId": "ad7e0fb3-f78e-471f-f3f5-e4d168dc02c3"
      },
      "execution_count": null,
      "outputs": [
        {
          "output_type": "execute_result",
          "data": {
            "text/plain": [
              "['COVID', 'Lung_Opacity', 'Normal', 'Viral Pneumonia']"
            ]
          },
          "metadata": {},
          "execution_count": 6
        }
      ]
    },
    {
      "cell_type": "code",
      "source": [
        "import matplotlib.pyplot as plt\n",
        "import numpy as np\n",
        "\n",
        "y = np.concatenate([y for x, y in dev_ds])\n",
        "plt.hist(y, list(range(len(classes) + 1)))\n",
        "plt.show()"
      ],
      "metadata": {
        "colab": {
          "base_uri": "https://localhost:8080/",
          "height": 265
        },
        "id": "vGDSW_DP9OaI",
        "outputId": "88610c05-336f-40ef-983c-0cf36a8b48d8"
      },
      "execution_count": null,
      "outputs": [
        {
          "output_type": "display_data",
          "data": {
            "text/plain": [
              "<Figure size 432x288 with 1 Axes>"
            ],
            "image/png": "[encoded data removed]"
          },
          "metadata": {
            "needs_background": "light"
          }
        }
      ]
    },
    {
      "cell_type": "code",
      "source": [
        "import seaborn as sns\n",
        "sns.displot(y)\n",
        "plt.show()"
      ],
      "metadata": {
        "colab": {
          "base_uri": "https://localhost:8080/",
          "height": 369
        },
        "id": "1tg3N2_7-v4U",
        "outputId": "3f273a66-63ca-41ed-efb6-64c3ac2310e1"
      },
      "execution_count": null,
      "outputs": [
        {
          "output_type": "display_data",
          "data": {
            "text/plain": [
              "<Figure size 360x360 with 1 Axes>"
            ],
            "image/png": "[encoded data removed]"
          },
          "metadata": {
            "needs_background": "light"
          }
        }
      ]
    },
    {
      "cell_type": "code",
      "source": [
        "def cnn1(num_classes):\n",
        "  model = tf.keras.models.Sequential([\n",
        "    tf.keras.layers.Rescaling(scale=1./255),                                       \n",
        "    tf.keras.layers.Conv2D(8, (3,3), activation='relu'),\n",
        "    tf.keras.layers.MaxPooling2D(strides=2),\n",
        "    tf.keras.layers.Conv2D(16, (3,3), activation='relu'),\n",
        "    tf.keras.layers.MaxPooling2D(strides=2),\n",
        "    tf.keras.layers.Flatten(),\n",
        "    tf.keras.layers.Dense(32, activation='relu'),\n",
        "    tf.keras.layers.Dense(num_classes, activation='softmax')\n",
        "    ])\n",
        "\n",
        "  return model"
      ],
      "metadata": {
        "id": "KUIT5ho3VtPw"
      },
      "execution_count": null,
      "outputs": []
    },
    {
      "cell_type": "code",
      "source": [
        "model = cnn1(4)\n",
        "\n",
        "model.compile(loss='sparse_categorical_crossentropy',\n",
        "                optimizer=tf.keras.optimizers.Adam(learning_rate=0.001,beta_1=0.9,beta_2=0.99),\n",
        "                metrics=['accuracy'])"
      ],
      "metadata": {
        "id": "Fu9m177iXsq-"
      },
      "execution_count": null,
      "outputs": []
    },
    {
      "cell_type": "code",
      "source": [
        "from tensorflow.keras.callbacks import EarlyStopping \n",
        "\n",
        "early_stopping = EarlyStopping(monitor='val_accuracy', patience=3)"
      ],
      "metadata": {
        "id": "7LHiwHRg0vbo"
      },
      "execution_count": null,
      "outputs": []
    },
    {
      "cell_type": "code",
      "source": [
        "history = model.fit(train_ds,validation_data=val_ds, epochs=20, batch_size=64, callbacks=[early_stopping])"
      ],
      "metadata": {
        "colab": {
          "base_uri": "https://localhost:8080/"
        },
        "id": "BP06k1t6ZH-N",
        "outputId": "c1fe8266-8f78-4877-ffa9-975235d140aa"
      },
      "execution_count": null,
      "outputs": [
        {
          "output_type": "stream",
          "name": "stdout",
          "text": [
            "Epoch 1/20\n",
            "198/198 [==============================] - 72s 313ms/step - loss: 1.1351 - accuracy: 0.5871 - val_loss: 0.8062 - val_accuracy: 0.6634\n",
            "Epoch 2/20\n",
            "198/198 [==============================] - 62s 311ms/step - loss: 0.6844 - accuracy: 0.7268 - val_loss: 0.7411 - val_accuracy: 0.6870\n",
            "Epoch 3/20\n",
            "198/198 [==============================] - 60s 301ms/step - loss: 0.5581 - accuracy: 0.7827 - val_loss: 0.5922 - val_accuracy: 0.7723\n",
            "Epoch 4/20\n",
            "198/198 [==============================] - 62s 307ms/step - loss: 0.4879 - accuracy: 0.8117 - val_loss: 0.5306 - val_accuracy: 0.7990\n",
            "Epoch 5/20\n",
            "198/198 [==============================] - 60s 301ms/step - loss: 0.4304 - accuracy: 0.8410 - val_loss: 0.5558 - val_accuracy: 0.7926\n",
            "Epoch 6/20\n",
            "198/198 [==============================] - 62s 310ms/step - loss: 0.3765 - accuracy: 0.8621 - val_loss: 0.5613 - val_accuracy: 0.7929\n",
            "Epoch 7/20\n",
            "198/198 [==============================] - 60s 300ms/step - loss: 0.3196 - accuracy: 0.8858 - val_loss: 0.5235 - val_accuracy: 0.8149\n",
            "Epoch 8/20\n",
            "198/198 [==============================] - 62s 309ms/step - loss: 0.2742 - accuracy: 0.9023 - val_loss: 0.6586 - val_accuracy: 0.7621\n",
            "Epoch 9/20\n",
            "198/198 [==============================] - 61s 302ms/step - loss: 0.2232 - accuracy: 0.9228 - val_loss: 0.5658 - val_accuracy: 0.8262\n",
            "Epoch 10/20\n",
            "198/198 [==============================] - 61s 306ms/step - loss: 0.1836 - accuracy: 0.9381 - val_loss: 0.6293 - val_accuracy: 0.8080\n",
            "Epoch 11/20\n",
            "198/198 [==============================] - 60s 300ms/step - loss: 0.1559 - accuracy: 0.9469 - val_loss: 0.5926 - val_accuracy: 0.8258\n",
            "Epoch 12/20\n",
            "198/198 [==============================] - 60s 299ms/step - loss: 0.1237 - accuracy: 0.9584 - val_loss: 0.6855 - val_accuracy: 0.8139\n"
          ]
        }
      ]
    },
    {
      "cell_type": "code",
      "source": [
        "import numpy as np\n",
        "\n",
        "def confusion_matrix(model, test_ds):\n",
        "  y_test = []\n",
        "  y_pred = []\n",
        "  for x_1, y_1 in test_ds:\n",
        "    y_pred_1 = model.predict(x_1)\n",
        "    y_test.append(y_1)\n",
        "    y_pred.append(y_pred_1)\n",
        "  y_true = np.concatenate(y_test)\n",
        "  y_p = np.concatenate(y_pred)\n",
        "  y_hat = tf.argmax(y_p, axis=1)\n",
        "  cm = tf.math.confusion_matrix(y_true, y_hat)\n",
        "  return cm, y_hat"
      ],
      "metadata": {
        "id": "Ay9OWZyLhavh"
      },
      "execution_count": null,
      "outputs": []
    },
    {
      "cell_type": "code",
      "source": [
        "cm, y_hat = confusion_matrix(model, test_ds)"
      ],
      "metadata": {
        "id": "dFqu--NChn67",
        "colab": {
          "base_uri": "https://localhost:8080/"
        },
        "outputId": "1cc331ee-5f3a-4f2c-8bea-230193fd45c1"
      },
      "execution_count": null,
      "outputs": [
        {
          "output_type": "stream",
          "name": "stdout",
          "text": [
            "2/2 [==============================] - 0s 17ms/step\n",
            "2/2 [==============================] - 0s 18ms/step\n",
            "2/2 [==============================] - 0s 21ms/step\n",
            "2/2 [==============================] - 0s 21ms/step\n",
            "2/2 [==============================] - 0s 17ms/step\n",
            "2/2 [==============================] - 0s 25ms/step\n",
            "2/2 [==============================] - 0s 18ms/step\n",
            "2/2 [==============================] - 0s 27ms/step\n",
            "2/2 [==============================] - 0s 21ms/step\n",
            "2/2 [==============================] - 0s 27ms/step\n",
            "2/2 [==============================] - 0s 21ms/step\n",
            "2/2 [==============================] - 0s 40ms/step\n",
            "2/2 [==============================] - 0s 21ms/step\n",
            "2/2 [==============================] - 0s 20ms/step\n",
            "2/2 [==============================] - 0s 20ms/step\n",
            "2/2 [==============================] - 0s 24ms/step\n",
            "2/2 [==============================] - 0s 22ms/step\n",
            "2/2 [==============================] - 0s 24ms/step\n",
            "2/2 [==============================] - 0s 23ms/step\n",
            "2/2 [==============================] - 0s 20ms/step\n",
            "2/2 [==============================] - 0s 21ms/step\n",
            "2/2 [==============================] - 0s 21ms/step\n",
            "2/2 [==============================] - 0s 20ms/step\n",
            "2/2 [==============================] - 0s 21ms/step\n",
            "2/2 [==============================] - 0s 25ms/step\n",
            "2/2 [==============================] - 0s 20ms/step\n",
            "2/2 [==============================] - 0s 24ms/step\n",
            "2/2 [==============================] - 0s 25ms/step\n",
            "2/2 [==============================] - 0s 28ms/step\n",
            "2/2 [==============================] - 0s 24ms/step\n",
            "2/2 [==============================] - 0s 20ms/step\n",
            "2/2 [==============================] - 0s 20ms/step\n",
            "2/2 [==============================] - 0s 23ms/step\n",
            "2/2 [==============================] - 0s 20ms/step\n",
            "2/2 [==============================] - 0s 20ms/step\n",
            "2/2 [==============================] - 0s 20ms/step\n",
            "2/2 [==============================] - 0s 21ms/step\n",
            "2/2 [==============================] - 0s 31ms/step\n",
            "2/2 [==============================] - 0s 29ms/step\n",
            "2/2 [==============================] - 0s 21ms/step\n",
            "2/2 [==============================] - 0s 23ms/step\n",
            "2/2 [==============================] - 0s 20ms/step\n",
            "2/2 [==============================] - 0s 35ms/step\n",
            "2/2 [==============================] - 0s 21ms/step\n",
            "2/2 [==============================] - 0s 23ms/step\n",
            "2/2 [==============================] - 0s 25ms/step\n",
            "2/2 [==============================] - 0s 25ms/step\n",
            "2/2 [==============================] - 0s 20ms/step\n",
            "2/2 [==============================] - 0s 20ms/step\n",
            "2/2 [==============================] - 0s 24ms/step\n",
            "2/2 [==============================] - 0s 20ms/step\n",
            "2/2 [==============================] - 0s 31ms/step\n",
            "2/2 [==============================] - 0s 21ms/step\n",
            "2/2 [==============================] - 0s 24ms/step\n",
            "2/2 [==============================] - 0s 22ms/step\n",
            "2/2 [==============================] - 0s 28ms/step\n",
            "2/2 [==============================] - 0s 24ms/step\n",
            "2/2 [==============================] - 0s 22ms/step\n",
            "2/2 [==============================] - 0s 20ms/step\n",
            "2/2 [==============================] - 0s 20ms/step\n",
            "2/2 [==============================] - 0s 20ms/step\n",
            "2/2 [==============================] - 0s 20ms/step\n",
            "2/2 [==============================] - 0s 21ms/step\n",
            "2/2 [==============================] - 0s 20ms/step\n",
            "2/2 [==============================] - 0s 20ms/step\n",
            "2/2 [==============================] - 0s 20ms/step\n",
            "2/2 [==============================] - 0s 123ms/step\n"
          ]
        }
      ]
    },
    {
      "cell_type": "code",
      "source": [
        "cm"
      ],
      "metadata": {
        "colab": {
          "base_uri": "https://localhost:8080/"
        },
        "id": "NEarTtKfupzn",
        "outputId": "ea103963-3158-45a0-a9c8-201a6706ca0c"
      },
      "execution_count": null,
      "outputs": [
        {
          "output_type": "execute_result",
          "data": {
            "text/plain": [
              "<tf.Tensor: shape=(4, 4), dtype=int32, numpy=\n",
              "array([[ 530,  105,   85,    4],\n",
              "       [  31, 1044,  181,    3],\n",
              "       [  55,  288, 1649,   32],\n",
              "       [   4,   13,    6,  239]], dtype=int32)>"
            ]
          },
          "metadata": {},
          "execution_count": 15
        }
      ]
    },
    {
      "cell_type": "code",
      "source": [
        "sns.heatmap(cm)"
      ],
      "metadata": {
        "colab": {
          "base_uri": "https://localhost:8080/",
          "height": 282
        },
        "id": "PeQZ-T3NVNH9",
        "outputId": "068fd5ee-8b63-4bad-84a2-b8e31c686ac0"
      },
      "execution_count": null,
      "outputs": [
        {
          "output_type": "execute_result",
          "data": {
            "text/plain": [
              "<matplotlib.axes._subplots.AxesSubplot at 0x7f63fc1cfe10>"
            ]
          },
          "metadata": {},
          "execution_count": 16
        },
        {
          "output_type": "display_data",
          "data": {
            "text/plain": [
              "<Figure size 432x288 with 2 Axes>"
            ],
            "image/png": "[encoded data removed]"
          },
          "metadata": {
            "needs_background": "light"
          }
        }
      ]
    },
    {
      "cell_type": "code",
      "source": [
        "def cnn2(num_classes):\n",
        "  model = tf.keras.models.Sequential([\n",
        "    tf.keras.layers.Rescaling(scale=1./255),                                       \n",
        "    tf.keras.layers.Conv2D(32, (3,3), activation='relu'),\n",
        "    tf.keras.layers.Conv2D(32, (3,3), activation='relu'),\n",
        "    tf.keras.layers.MaxPooling2D(strides=4),\n",
        "    tf.keras.layers.Conv2D(64, (3,3), activation='relu'),\n",
        "    tf.keras.layers.Conv2D(64, (3,3), activation='relu'),\n",
        "    tf.keras.layers.MaxPooling2D(strides=2),\n",
        "    tf.keras.layers.Conv2D(128, (3,3), activation='relu'),\n",
        "    tf.keras.layers.Conv2D(128, (3,3), activation='relu'),\n",
        "    tf.keras.layers.MaxPooling2D(strides=2),\n",
        "    tf.keras.layers.Conv2D(256, (3,3), activation='relu'),\n",
        "    tf.keras.layers.Conv2D(256, (3,3), activation='relu'),\n",
        "    tf.keras.layers.Conv2D(256, (3,3), activation='relu'),\n",
        "    tf.keras.layers.MaxPooling2D(strides=2),\n",
        "    tf.keras.layers.Conv2D(512, (3,3), activation='relu'),\n",
        "    tf.keras.layers.MaxPooling2D(strides=2),\n",
        "    tf.keras.layers.Flatten(),\n",
        "    tf.keras.layers.Dense(1024, activation='relu'),\n",
        "    tf.keras.layers.Dense(num_classes, activation='softmax')\n",
        "    ])\n",
        "\n",
        "  return model"
      ],
      "metadata": {
        "id": "9vfTqPvwh3Y8"
      },
      "execution_count": null,
      "outputs": []
    },
    {
      "cell_type": "code",
      "source": [
        "model = cnn2(4)\n",
        "\n",
        "model.compile(loss='sparse_categorical_crossentropy',\n",
        "                optimizer=tf.keras.optimizers.Adam(learning_rate=0.001,beta_1=0.9,beta_2=0.99),\n",
        "                metrics=['accuracy'])"
      ],
      "metadata": {
        "id": "b-93drfzimyL"
      },
      "execution_count": null,
      "outputs": []
    },
    {
      "cell_type": "code",
      "source": [
        "history = model.fit(train_ds,validation_data=val_ds, epochs=20, batch_size=64, callbacks=[early_stopping])"
      ],
      "metadata": {
        "colab": {
          "base_uri": "https://localhost:8080/"
        },
        "id": "JQtyd9gVirrg",
        "outputId": "0d23b0ee-02ee-4fb7-ac9c-b92045466231"
      },
      "execution_count": null,
      "outputs": [
        {
          "output_type": "stream",
          "name": "stdout",
          "text": [
            "Epoch 1/20\n",
            "198/198 [==============================] - 96s 458ms/step - loss: 1.0903 - accuracy: 0.5335 - val_loss: 0.8573 - val_accuracy: 0.6560\n",
            "Epoch 2/20\n",
            "198/198 [==============================] - 92s 461ms/step - loss: 0.8138 - accuracy: 0.6681 - val_loss: 0.7507 - val_accuracy: 0.7041\n",
            "Epoch 3/20\n",
            "198/198 [==============================] - 91s 455ms/step - loss: 0.6967 - accuracy: 0.7211 - val_loss: 0.6729 - val_accuracy: 0.7308\n",
            "Epoch 4/20\n",
            "198/198 [==============================] - 91s 456ms/step - loss: 0.6178 - accuracy: 0.7542 - val_loss: 0.5995 - val_accuracy: 0.7625\n",
            "Epoch 5/20\n",
            "198/198 [==============================] - 91s 454ms/step - loss: 0.5644 - accuracy: 0.7783 - val_loss: 0.5675 - val_accuracy: 0.7789\n",
            "Epoch 6/20\n",
            "198/198 [==============================] - 91s 454ms/step - loss: 0.5177 - accuracy: 0.7973 - val_loss: 0.5015 - val_accuracy: 0.8018\n",
            "Epoch 7/20\n",
            "198/198 [==============================] - 91s 455ms/step - loss: 0.4725 - accuracy: 0.8196 - val_loss: 0.4680 - val_accuracy: 0.8201\n",
            "Epoch 8/20\n",
            "198/198 [==============================] - 91s 454ms/step - loss: 0.4258 - accuracy: 0.8368 - val_loss: 0.4909 - val_accuracy: 0.8175\n",
            "Epoch 9/20\n",
            "198/198 [==============================] - 91s 454ms/step - loss: 0.3955 - accuracy: 0.8508 - val_loss: 0.4442 - val_accuracy: 0.8293\n",
            "Epoch 10/20\n",
            "198/198 [==============================] - 91s 455ms/step - loss: 0.3635 - accuracy: 0.8621 - val_loss: 0.4530 - val_accuracy: 0.8293\n",
            "Epoch 11/20\n",
            "198/198 [==============================] - 91s 455ms/step - loss: 0.3364 - accuracy: 0.8715 - val_loss: 0.4370 - val_accuracy: 0.8348\n",
            "Epoch 12/20\n",
            "198/198 [==============================] - 91s 455ms/step - loss: 0.2974 - accuracy: 0.8842 - val_loss: 0.4106 - val_accuracy: 0.8468\n",
            "Epoch 13/20\n",
            "198/198 [==============================] - 91s 454ms/step - loss: 0.2874 - accuracy: 0.8897 - val_loss: 0.4339 - val_accuracy: 0.8466\n",
            "Epoch 14/20\n",
            "198/198 [==============================] - 90s 453ms/step - loss: 0.2573 - accuracy: 0.9040 - val_loss: 0.4384 - val_accuracy: 0.8509\n",
            "Epoch 15/20\n",
            "198/198 [==============================] - 91s 455ms/step - loss: 0.2339 - accuracy: 0.9104 - val_loss: 0.4578 - val_accuracy: 0.8456\n",
            "Epoch 16/20\n",
            "198/198 [==============================] - 92s 459ms/step - loss: 0.2090 - accuracy: 0.9235 - val_loss: 0.4424 - val_accuracy: 0.8542\n",
            "Epoch 17/20\n",
            "198/198 [==============================] - 92s 459ms/step - loss: 0.1975 - accuracy: 0.9263 - val_loss: 0.4948 - val_accuracy: 0.8468\n",
            "Epoch 18/20\n",
            "198/198 [==============================] - 91s 455ms/step - loss: 0.1796 - accuracy: 0.9327 - val_loss: 0.4527 - val_accuracy: 0.8556\n",
            "Epoch 19/20\n",
            "198/198 [==============================] - 91s 456ms/step - loss: 0.1667 - accuracy: 0.9375 - val_loss: 0.5177 - val_accuracy: 0.8485\n",
            "Epoch 20/20\n",
            "198/198 [==============================] - 91s 457ms/step - loss: 0.1696 - accuracy: 0.9376 - val_loss: 0.4792 - val_accuracy: 0.8613\n"
          ]
        }
      ]
    },
    {
      "cell_type": "code",
      "source": [
        "cm, y_hat = confusion_matrix(model, test_ds)"
      ],
      "metadata": {
        "id": "wMIEAWurWGGu",
        "colab": {
          "base_uri": "https://localhost:8080/"
        },
        "outputId": "6e483bd8-99b1-4670-fdcc-4cd357e6acec"
      },
      "execution_count": null,
      "outputs": [
        {
          "output_type": "stream",
          "name": "stdout",
          "text": [
            "2/2 [==============================] - 1s 19ms/step\n",
            "2/2 [==============================] - 0s 47ms/step\n",
            "2/2 [==============================] - 0s 49ms/step\n",
            "2/2 [==============================] - 0s 48ms/step\n",
            "2/2 [==============================] - 0s 55ms/step\n",
            "2/2 [==============================] - 0s 48ms/step\n",
            "2/2 [==============================] - 0s 48ms/step\n",
            "2/2 [==============================] - 0s 57ms/step\n",
            "2/2 [==============================] - 0s 49ms/step\n",
            "2/2 [==============================] - 0s 48ms/step\n",
            "2/2 [==============================] - 0s 50ms/step\n",
            "2/2 [==============================] - 0s 49ms/step\n",
            "2/2 [==============================] - 0s 52ms/step\n",
            "2/2 [==============================] - 0s 48ms/step\n",
            "2/2 [==============================] - 0s 55ms/step\n",
            "2/2 [==============================] - 0s 53ms/step\n",
            "2/2 [==============================] - 0s 49ms/step\n",
            "2/2 [==============================] - 0s 49ms/step\n",
            "2/2 [==============================] - 0s 57ms/step\n",
            "2/2 [==============================] - 0s 49ms/step\n",
            "2/2 [==============================] - 0s 48ms/step\n",
            "2/2 [==============================] - 0s 48ms/step\n",
            "2/2 [==============================] - 0s 49ms/step\n",
            "2/2 [==============================] - 0s 46ms/step\n",
            "2/2 [==============================] - 0s 57ms/step\n",
            "2/2 [==============================] - 0s 53ms/step\n",
            "2/2 [==============================] - 0s 48ms/step\n",
            "2/2 [==============================] - 0s 48ms/step\n",
            "2/2 [==============================] - 0s 49ms/step\n",
            "2/2 [==============================] - 0s 49ms/step\n",
            "2/2 [==============================] - 0s 50ms/step\n",
            "2/2 [==============================] - 0s 51ms/step\n",
            "2/2 [==============================] - 0s 53ms/step\n",
            "2/2 [==============================] - 0s 55ms/step\n",
            "2/2 [==============================] - 0s 59ms/step\n",
            "2/2 [==============================] - 0s 53ms/step\n",
            "2/2 [==============================] - 0s 57ms/step\n",
            "2/2 [==============================] - 0s 53ms/step\n",
            "2/2 [==============================] - 0s 59ms/step\n",
            "2/2 [==============================] - 0s 52ms/step\n",
            "2/2 [==============================] - 0s 49ms/step\n",
            "2/2 [==============================] - 0s 58ms/step\n",
            "2/2 [==============================] - 0s 52ms/step\n",
            "2/2 [==============================] - 0s 57ms/step\n",
            "2/2 [==============================] - 0s 50ms/step\n",
            "2/2 [==============================] - 0s 50ms/step\n",
            "2/2 [==============================] - 0s 52ms/step\n",
            "2/2 [==============================] - 0s 50ms/step\n",
            "2/2 [==============================] - 0s 49ms/step\n",
            "2/2 [==============================] - 0s 50ms/step\n",
            "2/2 [==============================] - 0s 50ms/step\n",
            "2/2 [==============================] - 0s 58ms/step\n",
            "2/2 [==============================] - 0s 48ms/step\n",
            "2/2 [==============================] - 0s 54ms/step\n",
            "2/2 [==============================] - 0s 55ms/step\n",
            "2/2 [==============================] - 0s 48ms/step\n",
            "2/2 [==============================] - 0s 50ms/step\n",
            "2/2 [==============================] - 0s 52ms/step\n",
            "2/2 [==============================] - 0s 50ms/step\n",
            "2/2 [==============================] - 0s 49ms/step\n",
            "2/2 [==============================] - 0s 48ms/step\n",
            "2/2 [==============================] - 0s 48ms/step\n",
            "2/2 [==============================] - 0s 48ms/step\n",
            "2/2 [==============================] - 0s 48ms/step\n",
            "2/2 [==============================] - 0s 48ms/step\n",
            "2/2 [==============================] - 0s 47ms/step\n",
            "2/2 [==============================] - 1s 514ms/step\n"
          ]
        }
      ]
    },
    {
      "cell_type": "code",
      "source": [
        "sns.heatmap(cm)"
      ],
      "metadata": {
        "colab": {
          "base_uri": "https://localhost:8080/",
          "height": 282
        },
        "id": "a4LbYq1EWFVR",
        "outputId": "67363513-ff88-428b-c25f-bf7f94587195"
      },
      "execution_count": null,
      "outputs": [
        {
          "output_type": "execute_result",
          "data": {
            "text/plain": [
              "<matplotlib.axes._subplots.AxesSubplot at 0x7f63e5ed7810>"
            ]
          },
          "metadata": {},
          "execution_count": 21
        },
        {
          "output_type": "display_data",
          "data": {
            "text/plain": [
              "<Figure size 432x288 with 2 Axes>"
            ],
            "image/png": "[encoded data removed]"
          },
          "metadata": {
            "needs_background": "light"
          }
        }
      ]
    },
    {
      "cell_type": "code",
      "source": [
        "inputs = tf.keras.layers.Input(shape=(299, 299, 3))\n",
        "\n",
        "preproc = tf.keras.models.Sequential([\n",
        "         tf.keras.layers.experimental.preprocessing.Resizing(224,224)\n",
        "])\n",
        "\n",
        "x = preproc(inputs)\n",
        "\n",
        "effnet = tf.keras.applications.efficientnet.EfficientNetB0(weights='imagenet', input_tensor=x, include_top=False)\n",
        "effnet.trainable = False\n",
        "\n",
        "x = tf.keras.layers.GlobalAveragePooling2D()(effnet.output)\n",
        "\n",
        "outputs = tf.keras.layers.Dense(4, activation=\"softmax\")(x)\n",
        "\n",
        "model = tf.keras.Model(inputs, outputs)"
      ],
      "metadata": {
        "id": "WrrPp4-0HLd5",
        "colab": {
          "base_uri": "https://localhost:8080/"
        },
        "outputId": "108a071a-edb6-4d95-9f54-576934b33610"
      },
      "execution_count": null,
      "outputs": [
        {
          "output_type": "stream",
          "name": "stdout",
          "text": [
            "Downloading data from https://storage.googleapis.com/keras-applications/efficientnetb0_notop.h5\n",
            "16705208/16705208 [==============================] - 0s 0us/step\n"
          ]
        }
      ]
    },
    {
      "cell_type": "code",
      "source": [
        "model.compile(loss='sparse_categorical_crossentropy',\n",
        "                optimizer=tf.keras.optimizers.Adam(learning_rate=0.001,beta_1=0.9,beta_2=0.99),\n",
        "                metrics=['accuracy'])"
      ],
      "metadata": {
        "id": "pFjH8Tx3ITKD"
      },
      "execution_count": null,
      "outputs": []
    },
    {
      "cell_type": "code",
      "source": [
        "history = model.fit(train_ds,validation_data=val_ds, epochs=5, batch_size=32, callbacks=[early_stopping])"
      ],
      "metadata": {
        "colab": {
          "base_uri": "https://localhost:8080/"
        },
        "id": "e-mT-7gSIViM",
        "outputId": "4107cc8b-6089-4262-9fe9-4b8827761840"
      },
      "execution_count": null,
      "outputs": [
        {
          "output_type": "stream",
          "name": "stdout",
          "text": [
            "Epoch 1/5\n",
            "198/198 [==============================] - 70s 320ms/step - loss: 0.6518 - accuracy: 0.7502 - val_loss: 0.4825 - val_accuracy: 0.8205\n",
            "Epoch 2/5\n",
            "198/198 [==============================] - 61s 306ms/step - loss: 0.4389 - accuracy: 0.8426 - val_loss: 0.4099 - val_accuracy: 0.8494\n",
            "Epoch 3/5\n",
            "198/198 [==============================] - 62s 312ms/step - loss: 0.3899 - accuracy: 0.8554 - val_loss: 0.3905 - val_accuracy: 0.8501\n",
            "Epoch 4/5\n",
            "198/198 [==============================] - 62s 307ms/step - loss: 0.3567 - accuracy: 0.8733 - val_loss: 0.3532 - val_accuracy: 0.8722\n",
            "Epoch 5/5\n",
            "198/198 [==============================] - 63s 314ms/step - loss: 0.3351 - accuracy: 0.8805 - val_loss: 0.3433 - val_accuracy: 0.8719\n"
          ]
        }
      ]
    },
    {
      "cell_type": "code",
      "source": [
        "cm, y_hat = confusion_matrix(model, test_ds)"
      ],
      "metadata": {
        "id": "bASssQjAF7qu",
        "colab": {
          "base_uri": "https://localhost:8080/"
        },
        "outputId": "1e5a17f2-dbbb-45f4-86c2-c91135c88db8"
      },
      "execution_count": null,
      "outputs": [
        {
          "output_type": "stream",
          "name": "stdout",
          "text": [
            "2/2 [==============================] - 2s 24ms/step\n",
            "2/2 [==============================] - 0s 63ms/step\n",
            "2/2 [==============================] - 0s 62ms/step\n",
            "2/2 [==============================] - 0s 64ms/step\n",
            "2/2 [==============================] - 0s 70ms/step\n",
            "2/2 [==============================] - 0s 62ms/step\n",
            "2/2 [==============================] - 0s 60ms/step\n",
            "2/2 [==============================] - 0s 65ms/step\n",
            "2/2 [==============================] - 0s 67ms/step\n",
            "2/2 [==============================] - 0s 60ms/step\n",
            "2/2 [==============================] - 0s 61ms/step\n",
            "2/2 [==============================] - 0s 56ms/step\n",
            "2/2 [==============================] - 0s 64ms/step\n",
            "2/2 [==============================] - 0s 68ms/step\n",
            "2/2 [==============================] - 0s 67ms/step\n",
            "2/2 [==============================] - 0s 66ms/step\n",
            "2/2 [==============================] - 0s 62ms/step\n",
            "2/2 [==============================] - 0s 57ms/step\n",
            "2/2 [==============================] - 0s 63ms/step\n",
            "2/2 [==============================] - 0s 53ms/step\n",
            "2/2 [==============================] - 0s 49ms/step\n",
            "2/2 [==============================] - 0s 56ms/step\n",
            "2/2 [==============================] - 0s 70ms/step\n",
            "2/2 [==============================] - 0s 68ms/step\n",
            "2/2 [==============================] - 0s 60ms/step\n",
            "2/2 [==============================] - 0s 58ms/step\n",
            "2/2 [==============================] - 0s 61ms/step\n",
            "2/2 [==============================] - 0s 63ms/step\n",
            "2/2 [==============================] - 0s 49ms/step\n",
            "2/2 [==============================] - 0s 58ms/step\n",
            "2/2 [==============================] - 0s 65ms/step\n",
            "2/2 [==============================] - 0s 57ms/step\n",
            "2/2 [==============================] - 0s 73ms/step\n",
            "2/2 [==============================] - 0s 60ms/step\n",
            "2/2 [==============================] - 0s 72ms/step\n",
            "2/2 [==============================] - 0s 61ms/step\n",
            "2/2 [==============================] - 0s 56ms/step\n",
            "2/2 [==============================] - 0s 61ms/step\n",
            "2/2 [==============================] - 0s 65ms/step\n",
            "2/2 [==============================] - 0s 59ms/step\n",
            "2/2 [==============================] - 0s 63ms/step\n",
            "2/2 [==============================] - 0s 61ms/step\n",
            "2/2 [==============================] - 0s 64ms/step\n",
            "2/2 [==============================] - 0s 61ms/step\n",
            "2/2 [==============================] - 0s 67ms/step\n",
            "2/2 [==============================] - 0s 64ms/step\n",
            "2/2 [==============================] - 0s 58ms/step\n",
            "2/2 [==============================] - 0s 62ms/step\n",
            "2/2 [==============================] - 0s 66ms/step\n",
            "2/2 [==============================] - 0s 60ms/step\n",
            "2/2 [==============================] - 0s 61ms/step\n",
            "2/2 [==============================] - 0s 62ms/step\n",
            "2/2 [==============================] - 0s 64ms/step\n",
            "2/2 [==============================] - 0s 62ms/step\n",
            "2/2 [==============================] - 0s 62ms/step\n",
            "2/2 [==============================] - 0s 49ms/step\n",
            "2/2 [==============================] - 0s 59ms/step\n",
            "2/2 [==============================] - 0s 63ms/step\n",
            "2/2 [==============================] - 0s 68ms/step\n",
            "2/2 [==============================] - 0s 62ms/step\n",
            "2/2 [==============================] - 0s 62ms/step\n",
            "2/2 [==============================] - 0s 60ms/step\n",
            "2/2 [==============================] - 0s 62ms/step\n",
            "2/2 [==============================] - 0s 64ms/step\n",
            "2/2 [==============================] - 0s 59ms/step\n",
            "2/2 [==============================] - 0s 63ms/step\n",
            "2/2 [==============================] - 2s 471ms/step\n"
          ]
        }
      ]
    },
    {
      "cell_type": "code",
      "source": [
        "sns.heatmap(cm, annot=True)"
      ],
      "metadata": {
        "colab": {
          "base_uri": "https://localhost:8080/",
          "height": 282
        },
        "id": "LYhTEHc2WBjL",
        "outputId": "9313c892-b500-4fd2-fb59-64899eebb729"
      },
      "execution_count": null,
      "outputs": [
        {
          "output_type": "execute_result",
          "data": {
            "text/plain": [
              "<matplotlib.axes._subplots.AxesSubplot at 0x7f63e030fa50>"
            ]
          },
          "metadata": {},
          "execution_count": 26
        },
        {
          "output_type": "display_data",
          "data": {
            "text/plain": [
              "<Figure size 432x288 with 2 Axes>"
            ],
            "image/png": "[encoded data removed]"
          },
          "metadata": {
            "needs_background": "light"
          }
        }
      ]
    }
  ]
}